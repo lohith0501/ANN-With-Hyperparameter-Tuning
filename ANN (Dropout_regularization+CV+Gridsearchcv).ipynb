{
 "cells": [
  {
   "cell_type": "markdown",
   "metadata": {},
   "source": [
    "# Churn Modeling Using ANN "
   ]
  },
  {
   "cell_type": "code",
   "execution_count": 1,
   "metadata": {},
   "outputs": [],
   "source": [
    "import pandas as pd\n",
    "import numpy as np\n",
    "import matplotlib.pyplot as plt"
   ]
  },
  {
   "cell_type": "code",
   "execution_count": 2,
   "metadata": {},
   "outputs": [],
   "source": [
    "df=pd.read_csv(\"Churn_Modelling.csv\")"
   ]
  },
  {
   "cell_type": "code",
   "execution_count": 158,
   "metadata": {},
   "outputs": [],
   "source": [
    "df=df.drop([\"RowNumber\",'CustomerId','Surname'],axis=1)"
   ]
  },
  {
   "cell_type": "code",
   "execution_count": 159,
   "metadata": {},
   "outputs": [],
   "source": [
    "from sklearn.preprocessing import LabelEncoder,StandardScaler"
   ]
  },
  {
   "cell_type": "code",
   "execution_count": 160,
   "metadata": {},
   "outputs": [],
   "source": [
    "le=LabelEncoder()"
   ]
  },
  {
   "cell_type": "code",
   "execution_count": 161,
   "metadata": {},
   "outputs": [],
   "source": [
    "df['Geography']=le.fit_transform(df['Geography'])"
   ]
  },
  {
   "cell_type": "code",
   "execution_count": 162,
   "metadata": {},
   "outputs": [],
   "source": [
    "df['Gender']=le.fit_transform(df['Gender'])"
   ]
  },
  {
   "cell_type": "code",
   "execution_count": 163,
   "metadata": {},
   "outputs": [],
   "source": [
    "dmy=pd.get_dummies(df['Geography'],prefix='Geography',drop_first=True)"
   ]
  },
  {
   "cell_type": "code",
   "execution_count": 164,
   "metadata": {},
   "outputs": [],
   "source": [
    "df=pd.concat([df,dmy],axis=1)"
   ]
  },
  {
   "cell_type": "code",
   "execution_count": 165,
   "metadata": {},
   "outputs": [],
   "source": [
    "df.drop('Geography',axis=1,inplace=True)"
   ]
  },
  {
   "cell_type": "code",
   "execution_count": 166,
   "metadata": {
    "scrolled": true
   },
   "outputs": [
    {
     "data": {
      "text/html": [
       "<div>\n",
       "<style scoped>\n",
       "    .dataframe tbody tr th:only-of-type {\n",
       "        vertical-align: middle;\n",
       "    }\n",
       "\n",
       "    .dataframe tbody tr th {\n",
       "        vertical-align: top;\n",
       "    }\n",
       "\n",
       "    .dataframe thead th {\n",
       "        text-align: right;\n",
       "    }\n",
       "</style>\n",
       "<table border=\"1\" class=\"dataframe\">\n",
       "  <thead>\n",
       "    <tr style=\"text-align: right;\">\n",
       "      <th></th>\n",
       "      <th>CreditScore</th>\n",
       "      <th>Gender</th>\n",
       "      <th>Age</th>\n",
       "      <th>Tenure</th>\n",
       "      <th>Balance</th>\n",
       "      <th>NumOfProducts</th>\n",
       "      <th>HasCrCard</th>\n",
       "      <th>IsActiveMember</th>\n",
       "      <th>EstimatedSalary</th>\n",
       "      <th>Exited</th>\n",
       "      <th>Geography_1</th>\n",
       "      <th>Geography_2</th>\n",
       "    </tr>\n",
       "  </thead>\n",
       "  <tbody>\n",
       "    <tr>\n",
       "      <th>0</th>\n",
       "      <td>619</td>\n",
       "      <td>0</td>\n",
       "      <td>42</td>\n",
       "      <td>2</td>\n",
       "      <td>0.00</td>\n",
       "      <td>1</td>\n",
       "      <td>1</td>\n",
       "      <td>1</td>\n",
       "      <td>101348.88</td>\n",
       "      <td>1</td>\n",
       "      <td>0</td>\n",
       "      <td>0</td>\n",
       "    </tr>\n",
       "    <tr>\n",
       "      <th>1</th>\n",
       "      <td>608</td>\n",
       "      <td>0</td>\n",
       "      <td>41</td>\n",
       "      <td>1</td>\n",
       "      <td>83807.86</td>\n",
       "      <td>1</td>\n",
       "      <td>0</td>\n",
       "      <td>1</td>\n",
       "      <td>112542.58</td>\n",
       "      <td>0</td>\n",
       "      <td>0</td>\n",
       "      <td>1</td>\n",
       "    </tr>\n",
       "    <tr>\n",
       "      <th>2</th>\n",
       "      <td>502</td>\n",
       "      <td>0</td>\n",
       "      <td>42</td>\n",
       "      <td>8</td>\n",
       "      <td>159660.80</td>\n",
       "      <td>3</td>\n",
       "      <td>1</td>\n",
       "      <td>0</td>\n",
       "      <td>113931.57</td>\n",
       "      <td>1</td>\n",
       "      <td>0</td>\n",
       "      <td>0</td>\n",
       "    </tr>\n",
       "    <tr>\n",
       "      <th>3</th>\n",
       "      <td>699</td>\n",
       "      <td>0</td>\n",
       "      <td>39</td>\n",
       "      <td>1</td>\n",
       "      <td>0.00</td>\n",
       "      <td>2</td>\n",
       "      <td>0</td>\n",
       "      <td>0</td>\n",
       "      <td>93826.63</td>\n",
       "      <td>0</td>\n",
       "      <td>0</td>\n",
       "      <td>0</td>\n",
       "    </tr>\n",
       "    <tr>\n",
       "      <th>4</th>\n",
       "      <td>850</td>\n",
       "      <td>0</td>\n",
       "      <td>43</td>\n",
       "      <td>2</td>\n",
       "      <td>125510.82</td>\n",
       "      <td>1</td>\n",
       "      <td>1</td>\n",
       "      <td>1</td>\n",
       "      <td>79084.10</td>\n",
       "      <td>0</td>\n",
       "      <td>0</td>\n",
       "      <td>1</td>\n",
       "    </tr>\n",
       "  </tbody>\n",
       "</table>\n",
       "</div>"
      ],
      "text/plain": [
       "   CreditScore  Gender  Age  Tenure    Balance  NumOfProducts  HasCrCard  \\\n",
       "0          619       0   42       2       0.00              1          1   \n",
       "1          608       0   41       1   83807.86              1          0   \n",
       "2          502       0   42       8  159660.80              3          1   \n",
       "3          699       0   39       1       0.00              2          0   \n",
       "4          850       0   43       2  125510.82              1          1   \n",
       "\n",
       "   IsActiveMember  EstimatedSalary  Exited  Geography_1  Geography_2  \n",
       "0               1        101348.88       1            0            0  \n",
       "1               1        112542.58       0            0            1  \n",
       "2               0        113931.57       1            0            0  \n",
       "3               0         93826.63       0            0            0  \n",
       "4               1         79084.10       0            0            1  "
      ]
     },
     "execution_count": 166,
     "metadata": {},
     "output_type": "execute_result"
    }
   ],
   "source": [
    "df.head()"
   ]
  },
  {
   "cell_type": "code",
   "execution_count": 167,
   "metadata": {},
   "outputs": [],
   "source": [
    "y=df['Exited']\n",
    "X=df.drop('Exited',axis=1)"
   ]
  },
  {
   "cell_type": "code",
   "execution_count": 168,
   "metadata": {},
   "outputs": [],
   "source": [
    "from sklearn.model_selection import train_test_split"
   ]
  },
  {
   "cell_type": "code",
   "execution_count": 169,
   "metadata": {},
   "outputs": [],
   "source": [
    "X_train, X_test, y_train, y_test = train_test_split(X, y, test_size=0.2, random_state=42)"
   ]
  },
  {
   "cell_type": "code",
   "execution_count": 170,
   "metadata": {},
   "outputs": [],
   "source": [
    "sc=StandardScaler()"
   ]
  },
  {
   "cell_type": "code",
   "execution_count": 171,
   "metadata": {},
   "outputs": [],
   "source": [
    "X_train=sc.fit_transform(X_train)"
   ]
  },
  {
   "cell_type": "code",
   "execution_count": 172,
   "metadata": {},
   "outputs": [],
   "source": [
    "X_test=sc.fit_transform(X_test)"
   ]
  },
  {
   "cell_type": "code",
   "execution_count": 173,
   "metadata": {},
   "outputs": [],
   "source": [
    "import keras"
   ]
  },
  {
   "cell_type": "code",
   "execution_count": 132,
   "metadata": {},
   "outputs": [],
   "source": [
    "from keras.models import Sequential\n",
    "from keras.layers import Dense\n",
    "from keras.layers import Dropout"
   ]
  },
  {
   "cell_type": "code",
   "execution_count": 133,
   "metadata": {},
   "outputs": [],
   "source": [
    "classifier=Sequential()"
   ]
  },
  {
   "cell_type": "code",
   "execution_count": 134,
   "metadata": {},
   "outputs": [
    {
     "name": "stdout",
     "output_type": "stream",
     "text": [
      "WARNING:tensorflow:From C:\\Users\\Lohith\\Anaconda3\\lib\\site-packages\\tensorflow\\python\\ops\\resource_variable_ops.py:435: colocate_with (from tensorflow.python.framework.ops) is deprecated and will be removed in a future version.\n",
      "Instructions for updating:\n",
      "Colocations handled automatically by placer.\n"
     ]
    }
   ],
   "source": [
    "classifier.add(Dense(units=6,activation='relu',kernel_initializer='uniform',input_shape = (11, )))\n",
    "classifier.add(Dropout(rate=0.1))"
   ]
  },
  {
   "cell_type": "code",
   "execution_count": 135,
   "metadata": {},
   "outputs": [],
   "source": [
    "classifier.add(Dense(units=6,activation='relu',kernel_initializer='uniform'))\n",
    "classifier.add(Dropout(rate=0.1))"
   ]
  },
  {
   "cell_type": "code",
   "execution_count": 136,
   "metadata": {},
   "outputs": [],
   "source": [
    "classifier.add(Dense(units=1,activation='sigmoid',kernel_initializer='uniform'))"
   ]
  },
  {
   "cell_type": "code",
   "execution_count": 137,
   "metadata": {},
   "outputs": [],
   "source": [
    "classifier.compile(optimizer='adam',loss='binary_crossentropy',metrics=['accuracy'])"
   ]
  },
  {
   "cell_type": "code",
   "execution_count": 138,
   "metadata": {},
   "outputs": [
    {
     "name": "stdout",
     "output_type": "stream",
     "text": [
      "WARNING:tensorflow:From C:\\Users\\Lohith\\Anaconda3\\lib\\site-packages\\tensorflow\\python\\ops\\math_ops.py:3066: to_int32 (from tensorflow.python.ops.math_ops) is deprecated and will be removed in a future version.\n",
      "Instructions for updating:\n",
      "Use tf.cast instead.\n",
      "Epoch 1/100\n",
      "8000/8000 [==============================] - 1s 172us/step - loss: 0.4897 - accuracy: 0.7937\n",
      "Epoch 2/100\n",
      "8000/8000 [==============================] - 1s 136us/step - loss: 0.4269 - accuracy: 0.7945\n",
      "Epoch 3/100\n",
      "8000/8000 [==============================] - 1s 136us/step - loss: 0.4163 - accuracy: 0.7968\n",
      "Epoch 4/100\n",
      "8000/8000 [==============================] - 1s 131us/step - loss: 0.4050 - accuracy: 0.8271\n",
      "Epoch 5/100\n",
      "8000/8000 [==============================] - 1s 137us/step - loss: 0.3952 - accuracy: 0.8298\n",
      "Epoch 6/100\n",
      "8000/8000 [==============================] - 1s 135us/step - loss: 0.3872 - accuracy: 0.8322\n",
      "Epoch 7/100\n",
      "8000/8000 [==============================] - 1s 138us/step - loss: 0.3804 - accuracy: 0.8416\n",
      "Epoch 8/100\n",
      "8000/8000 [==============================] - 1s 134us/step - loss: 0.3756 - accuracy: 0.8456\n",
      "Epoch 9/100\n",
      "8000/8000 [==============================] - 1s 133us/step - loss: 0.3707 - accuracy: 0.8501\n",
      "Epoch 10/100\n",
      "8000/8000 [==============================] - 1s 133us/step - loss: 0.3673 - accuracy: 0.8494\n",
      "Epoch 11/100\n",
      "8000/8000 [==============================] - 1s 140us/step - loss: 0.3644 - accuracy: 0.8516\n",
      "Epoch 12/100\n",
      "8000/8000 [==============================] - 1s 136us/step - loss: 0.3626 - accuracy: 0.8506\n",
      "Epoch 13/100\n",
      "8000/8000 [==============================] - 1s 137us/step - loss: 0.3611 - accuracy: 0.8525\n",
      "Epoch 14/100\n",
      "8000/8000 [==============================] - 1s 137us/step - loss: 0.3591 - accuracy: 0.8543\n",
      "Epoch 15/100\n",
      "8000/8000 [==============================] - 1s 136us/step - loss: 0.3581 - accuracy: 0.8534\n",
      "Epoch 16/100\n",
      "8000/8000 [==============================] - 1s 136us/step - loss: 0.3569 - accuracy: 0.8544\n",
      "Epoch 17/100\n",
      "8000/8000 [==============================] - 1s 137us/step - loss: 0.3556 - accuracy: 0.8571\n",
      "Epoch 18/100\n",
      "8000/8000 [==============================] - 1s 137us/step - loss: 0.3554 - accuracy: 0.8553\n",
      "Epoch 19/100\n",
      "8000/8000 [==============================] - 1s 139us/step - loss: 0.3543 - accuracy: 0.8568\n",
      "Epoch 20/100\n",
      "8000/8000 [==============================] - 1s 143us/step - loss: 0.3534 - accuracy: 0.8569\n",
      "Epoch 21/100\n",
      "8000/8000 [==============================] - 1s 138us/step - loss: 0.3527 - accuracy: 0.8551\n",
      "Epoch 22/100\n",
      "8000/8000 [==============================] - 1s 139us/step - loss: 0.3531 - accuracy: 0.8564\n",
      "Epoch 23/100\n",
      "8000/8000 [==============================] - 1s 140us/step - loss: 0.3520 - accuracy: 0.8586\n",
      "Epoch 24/100\n",
      "8000/8000 [==============================] - 1s 138us/step - loss: 0.3526 - accuracy: 0.8556\n",
      "Epoch 25/100\n",
      "8000/8000 [==============================] - 1s 138us/step - loss: 0.3517 - accuracy: 0.8571\n",
      "Epoch 26/100\n",
      "8000/8000 [==============================] - 1s 139us/step - loss: 0.3498 - accuracy: 0.8569\n",
      "Epoch 27/100\n",
      "8000/8000 [==============================] - 1s 139us/step - loss: 0.3492 - accuracy: 0.8564\n",
      "Epoch 28/100\n",
      "8000/8000 [==============================] - 1s 141us/step - loss: 0.3505 - accuracy: 0.8572\n",
      "Epoch 29/100\n",
      "8000/8000 [==============================] - 1s 139us/step - loss: 0.3492 - accuracy: 0.8577\n",
      "Epoch 30/100\n",
      "8000/8000 [==============================] - 1s 137us/step - loss: 0.3505 - accuracy: 0.8581\n",
      "Epoch 31/100\n",
      "8000/8000 [==============================] - 1s 138us/step - loss: 0.3494 - accuracy: 0.8589\n",
      "Epoch 32/100\n",
      "8000/8000 [==============================] - 1s 138us/step - loss: 0.3492 - accuracy: 0.8593\n",
      "Epoch 33/100\n",
      "8000/8000 [==============================] - 1s 136us/step - loss: 0.3490 - accuracy: 0.8591\n",
      "Epoch 34/100\n",
      "8000/8000 [==============================] - 1s 137us/step - loss: 0.3485 - accuracy: 0.8568\n",
      "Epoch 35/100\n",
      "8000/8000 [==============================] - 1s 138us/step - loss: 0.3486 - accuracy: 0.8584\n",
      "Epoch 36/100\n",
      "8000/8000 [==============================] - 1s 138us/step - loss: 0.3484 - accuracy: 0.8579\n",
      "Epoch 37/100\n",
      "8000/8000 [==============================] - 1s 135us/step - loss: 0.3485 - accuracy: 0.8570\n",
      "Epoch 38/100\n",
      "8000/8000 [==============================] - 1s 138us/step - loss: 0.3483 - accuracy: 0.8572\n",
      "Epoch 39/100\n",
      "8000/8000 [==============================] - 1s 134us/step - loss: 0.3487 - accuracy: 0.8589\n",
      "Epoch 40/100\n",
      "8000/8000 [==============================] - 1s 135us/step - loss: 0.3476 - accuracy: 0.8584\n",
      "Epoch 41/100\n",
      "8000/8000 [==============================] - 1s 131us/step - loss: 0.3477 - accuracy: 0.8572\n",
      "Epoch 42/100\n",
      "8000/8000 [==============================] - 1s 135us/step - loss: 0.3481 - accuracy: 0.8584\n",
      "Epoch 43/100\n",
      "8000/8000 [==============================] - 1s 130us/step - loss: 0.3482 - accuracy: 0.8595\n",
      "Epoch 44/100\n",
      "8000/8000 [==============================] - 1s 132us/step - loss: 0.3475 - accuracy: 0.8577\n",
      "Epoch 45/100\n",
      "8000/8000 [==============================] - 1s 134us/step - loss: 0.3475 - accuracy: 0.8597\n",
      "Epoch 46/100\n",
      "8000/8000 [==============================] - 1s 134us/step - loss: 0.3468 - accuracy: 0.8586\n",
      "Epoch 47/100\n",
      "8000/8000 [==============================] - 1s 132us/step - loss: 0.3469 - accuracy: 0.8591\n",
      "Epoch 48/100\n",
      "8000/8000 [==============================] - 1s 141us/step - loss: 0.3470 - accuracy: 0.8593\n",
      "Epoch 49/100\n",
      "8000/8000 [==============================] - 1s 135us/step - loss: 0.3475 - accuracy: 0.8558\n",
      "Epoch 50/100\n",
      "8000/8000 [==============================] - 1s 135us/step - loss: 0.3470 - accuracy: 0.8599\n",
      "Epoch 51/100\n",
      "8000/8000 [==============================] - 1s 135us/step - loss: 0.3469 - accuracy: 0.8585\n",
      "Epoch 52/100\n",
      "8000/8000 [==============================] - 1s 130us/step - loss: 0.3471 - accuracy: 0.8591\n",
      "Epoch 53/100\n",
      "8000/8000 [==============================] - 1s 129us/step - loss: 0.3466 - accuracy: 0.8601\n",
      "Epoch 54/100\n",
      "8000/8000 [==============================] - 1s 131us/step - loss: 0.3465 - accuracy: 0.8590\n",
      "Epoch 55/100\n",
      "8000/8000 [==============================] - 1s 131us/step - loss: 0.3462 - accuracy: 0.8597\n",
      "Epoch 56/100\n",
      "8000/8000 [==============================] - 1s 132us/step - loss: 0.3458 - accuracy: 0.8583\n",
      "Epoch 57/100\n",
      "8000/8000 [==============================] - 1s 134us/step - loss: 0.3465 - accuracy: 0.8565\n",
      "Epoch 58/100\n",
      "8000/8000 [==============================] - 1s 131us/step - loss: 0.3455 - accuracy: 0.8591\n",
      "Epoch 59/100\n",
      "8000/8000 [==============================] - 1s 131us/step - loss: 0.3460 - accuracy: 0.8576\n",
      "Epoch 60/100\n",
      "8000/8000 [==============================] - 1s 133us/step - loss: 0.3449 - accuracy: 0.8600\n",
      "Epoch 61/100\n",
      "8000/8000 [==============================] - 1s 137us/step - loss: 0.3457 - accuracy: 0.8580\n",
      "Epoch 62/100\n",
      "8000/8000 [==============================] - 1s 132us/step - loss: 0.3455 - accuracy: 0.8597\n",
      "Epoch 63/100\n",
      "8000/8000 [==============================] - 1s 132us/step - loss: 0.3448 - accuracy: 0.8609\n",
      "Epoch 64/100\n",
      "8000/8000 [==============================] - 1s 132us/step - loss: 0.3451 - accuracy: 0.8611\n",
      "Epoch 65/100\n",
      "8000/8000 [==============================] - 1s 132us/step - loss: 0.3457 - accuracy: 0.8587\n",
      "Epoch 66/100\n",
      "8000/8000 [==============================] - 1s 131us/step - loss: 0.3451 - accuracy: 0.8605\n",
      "Epoch 67/100\n",
      "8000/8000 [==============================] - 1s 132us/step - loss: 0.3453 - accuracy: 0.8595\n",
      "Epoch 68/100\n",
      "8000/8000 [==============================] - 1s 131us/step - loss: 0.3451 - accuracy: 0.8594\n",
      "Epoch 69/100\n",
      "8000/8000 [==============================] - 1s 131us/step - loss: 0.3444 - accuracy: 0.8584\n",
      "Epoch 70/100\n",
      "8000/8000 [==============================] - 1s 130us/step - loss: 0.3446 - accuracy: 0.8595\n",
      "Epoch 71/100\n",
      "8000/8000 [==============================] - 1s 129us/step - loss: 0.3444 - accuracy: 0.8584\n",
      "Epoch 72/100\n",
      "8000/8000 [==============================] - 1s 150us/step - loss: 0.3448 - accuracy: 0.8594\n",
      "Epoch 73/100\n",
      "8000/8000 [==============================] - 1s 128us/step - loss: 0.3444 - accuracy: 0.8591\n",
      "Epoch 74/100\n",
      "8000/8000 [==============================] - 1s 130us/step - loss: 0.3442 - accuracy: 0.8589\n",
      "Epoch 75/100\n",
      "8000/8000 [==============================] - 1s 127us/step - loss: 0.3440 - accuracy: 0.8585\n"
     ]
    },
    {
     "name": "stdout",
     "output_type": "stream",
     "text": [
      "Epoch 76/100\n",
      "8000/8000 [==============================] - 1s 139us/step - loss: 0.3447 - accuracy: 0.8568\n",
      "Epoch 77/100\n",
      "8000/8000 [==============================] - 1s 139us/step - loss: 0.3441 - accuracy: 0.8584\n",
      "Epoch 78/100\n",
      "8000/8000 [==============================] - 1s 131us/step - loss: 0.3435 - accuracy: 0.8591\n",
      "Epoch 79/100\n",
      "8000/8000 [==============================] - 1s 131us/step - loss: 0.3435 - accuracy: 0.8579\n",
      "Epoch 80/100\n",
      "8000/8000 [==============================] - 1s 133us/step - loss: 0.3440 - accuracy: 0.8593\n",
      "Epoch 81/100\n",
      "8000/8000 [==============================] - 1s 130us/step - loss: 0.3436 - accuracy: 0.8608\n",
      "Epoch 82/100\n",
      "8000/8000 [==============================] - 1s 136us/step - loss: 0.3445 - accuracy: 0.8601\n",
      "Epoch 83/100\n",
      "8000/8000 [==============================] - 1s 135us/step - loss: 0.3437 - accuracy: 0.8608\n",
      "Epoch 84/100\n",
      "8000/8000 [==============================] - 1s 130us/step - loss: 0.3439 - accuracy: 0.8575\n",
      "Epoch 85/100\n",
      "8000/8000 [==============================] - 1s 132us/step - loss: 0.3442 - accuracy: 0.8605\n",
      "Epoch 86/100\n",
      "8000/8000 [==============================] - 1s 132us/step - loss: 0.3437 - accuracy: 0.8611\n",
      "Epoch 87/100\n",
      "8000/8000 [==============================] - 1s 135us/step - loss: 0.3437 - accuracy: 0.8609\n",
      "Epoch 88/100\n",
      "8000/8000 [==============================] - 1s 134us/step - loss: 0.3440 - accuracy: 0.8599\n",
      "Epoch 89/100\n",
      "8000/8000 [==============================] - 1s 131us/step - loss: 0.3434 - accuracy: 0.8627\n",
      "Epoch 90/100\n",
      "8000/8000 [==============================] - 1s 132us/step - loss: 0.3436 - accuracy: 0.8583\n",
      "Epoch 91/100\n",
      "8000/8000 [==============================] - 1s 135us/step - loss: 0.3438 - accuracy: 0.8590\n",
      "Epoch 92/100\n",
      "8000/8000 [==============================] - 1s 130us/step - loss: 0.3440 - accuracy: 0.8615\n",
      "Epoch 93/100\n",
      "8000/8000 [==============================] - 1s 136us/step - loss: 0.3424 - accuracy: 0.8604\n",
      "Epoch 94/100\n",
      "8000/8000 [==============================] - 1s 135us/step - loss: 0.3422 - accuracy: 0.8595\n",
      "Epoch 95/100\n",
      "8000/8000 [==============================] - 1s 135us/step - loss: 0.3432 - accuracy: 0.8611\n",
      "Epoch 96/100\n",
      "8000/8000 [==============================] - 1s 134us/step - loss: 0.3435 - accuracy: 0.8609\n",
      "Epoch 97/100\n",
      "8000/8000 [==============================] - 1s 136us/step - loss: 0.3422 - accuracy: 0.8614\n",
      "Epoch 98/100\n",
      "8000/8000 [==============================] - 1s 134us/step - loss: 0.3425 - accuracy: 0.8605\n",
      "Epoch 99/100\n",
      "8000/8000 [==============================] - 1s 133us/step - loss: 0.3440 - accuracy: 0.8596\n",
      "Epoch 100/100\n",
      "8000/8000 [==============================] - 1s 129us/step - loss: 0.3432 - accuracy: 0.8584\n"
     ]
    },
    {
     "data": {
      "text/plain": [
       "<keras.callbacks.callbacks.History at 0x2d27f7252b0>"
      ]
     },
     "execution_count": 138,
     "metadata": {},
     "output_type": "execute_result"
    }
   ],
   "source": [
    "classifier.fit(X_train,y_train,batch_size=10,epochs=100)"
   ]
  },
  {
   "cell_type": "code",
   "execution_count": 139,
   "metadata": {},
   "outputs": [],
   "source": [
    "y_pred=classifier.predict(X_test)"
   ]
  },
  {
   "cell_type": "code",
   "execution_count": 143,
   "metadata": {},
   "outputs": [],
   "source": [
    "y_pred=y_pred>0.50"
   ]
  },
  {
   "cell_type": "code",
   "execution_count": 150,
   "metadata": {},
   "outputs": [],
   "source": [
    "from sklearn.metrics import confusion_matrix"
   ]
  },
  {
   "cell_type": "code",
   "execution_count": 151,
   "metadata": {},
   "outputs": [
    {
     "data": {
      "text/plain": [
       "array([[1561,   46],\n",
       "       [ 227,  166]], dtype=int64)"
      ]
     },
     "execution_count": 151,
     "metadata": {},
     "output_type": "execute_result"
    }
   ],
   "source": [
    "confusion_matrix(y_test,y_pred)"
   ]
  },
  {
   "cell_type": "markdown",
   "metadata": {},
   "source": [
    "# Cross validation test for checking model consistancy"
   ]
  },
  {
   "cell_type": "code",
   "execution_count": 174,
   "metadata": {},
   "outputs": [],
   "source": [
    "from keras.wrappers.scikit_learn import KerasClassifier\n",
    "from sklearn.model_selection import cross_val_score"
   ]
  },
  {
   "cell_type": "code",
   "execution_count": 175,
   "metadata": {},
   "outputs": [],
   "source": [
    "from keras.models import Sequential\n",
    "from keras.layers import Dense"
   ]
  },
  {
   "cell_type": "code",
   "execution_count": 176,
   "metadata": {},
   "outputs": [],
   "source": [
    "def build_classifier():\n",
    "    classifier=Sequential()\n",
    "    classifier.add(Dense(units=6,activation='relu',kernel_initializer='uniform',input_shape = (11, )))\n",
    "    classifier.add(Dense(units=6,activation='relu',kernel_initializer='uniform'))\n",
    "    classifier.add(Dense(units=1,activation='sigmoid',kernel_initializer='uniform'))\n",
    "    classifier.compile(optimizer='adam',loss='binary_crossentropy',metrics=['accuracy'])\n",
    "    return classifier"
   ]
  },
  {
   "cell_type": "code",
   "execution_count": 178,
   "metadata": {},
   "outputs": [],
   "source": [
    "classifier=KerasClassifier(build_fn=build_classifier,batch_size=10,epochs=100)"
   ]
  },
  {
   "cell_type": "code",
   "execution_count": 180,
   "metadata": {},
   "outputs": [],
   "source": [
    "accuracies=cross_val_score(estimator=classifier,X=X_train,y=y_train,cv=10,n_jobs=-1)"
   ]
  },
  {
   "cell_type": "code",
   "execution_count": 183,
   "metadata": {},
   "outputs": [
    {
     "data": {
      "text/plain": [
       "0.8411249935626983"
      ]
     },
     "execution_count": 183,
     "metadata": {},
     "output_type": "execute_result"
    }
   ],
   "source": [
    "accuracies.mean()"
   ]
  },
  {
   "cell_type": "code",
   "execution_count": 185,
   "metadata": {},
   "outputs": [
    {
     "data": {
      "text/plain": [
       "0.012642309491560252"
      ]
     },
     "execution_count": 185,
     "metadata": {},
     "output_type": "execute_result"
    }
   ],
   "source": [
    "accuracies.std()"
   ]
  },
  {
   "cell_type": "markdown",
   "metadata": {},
   "source": [
    "# Hyperparameter tuning using Gridsearchcv"
   ]
  },
  {
   "cell_type": "code",
   "execution_count": 187,
   "metadata": {},
   "outputs": [],
   "source": [
    "from sklearn.model_selection import GridSearchCV"
   ]
  },
  {
   "cell_type": "code",
   "execution_count": null,
   "metadata": {},
   "outputs": [],
   "source": [
    "def build_classifier(optimizer):\n",
    "    classifier=Sequential()\n",
    "    classifier.add(Dense(units=6,activation='relu',kernel_initializer='uniform',input_shape = (11, )))\n",
    "    classifier.add(Dense(units=6,activation='relu',kernel_initializer='uniform'))\n",
    "    classifier.add(Dense(units=1,activation='sigmoid',kernel_initializer='uniform'))\n",
    "    classifier.compile(optimizer=optimizer,loss='binary_crossentropy',metrics=['accuracy'])\n",
    "    return classifier"
   ]
  },
  {
   "cell_type": "code",
   "execution_count": null,
   "metadata": {},
   "outputs": [],
   "source": [
    "classifier=KerasClassifier(build_fn=build_classifier)"
   ]
  },
  {
   "cell_type": "code",
   "execution_count": null,
   "metadata": {},
   "outputs": [],
   "source": [
    "parameters={batch_size=[25,32],\n",
    "            epochs=[100,500],\n",
    "            optimizer=['adam','RMSprop']}"
   ]
  },
  {
   "cell_type": "code",
   "execution_count": null,
   "metadata": {},
   "outputs": [],
   "source": [
    "grid_search=GridSearchCV(estimator=classifier,\n",
    "    param_grid=parameters,\n",
    "    scoring='accuracy',\n",
    "    cv=10)"
   ]
  },
  {
   "cell_type": "code",
   "execution_count": null,
   "metadata": {},
   "outputs": [],
   "source": [
    "grid_search=grid_search.fit(X_train,y_train)"
   ]
  },
  {
   "cell_type": "code",
   "execution_count": null,
   "metadata": {},
   "outputs": [],
   "source": [
    "best_parameters=grid_search.best_params_\n",
    "best_accuracy=grid_search.best_score_"
   ]
  },
  {
   "cell_type": "code",
   "execution_count": null,
   "metadata": {},
   "outputs": [],
   "source": []
  },
  {
   "cell_type": "code",
   "execution_count": null,
   "metadata": {},
   "outputs": [],
   "source": []
  },
  {
   "cell_type": "code",
   "execution_count": null,
   "metadata": {},
   "outputs": [],
   "source": []
  },
  {
   "cell_type": "code",
   "execution_count": null,
   "metadata": {},
   "outputs": [],
   "source": []
  },
  {
   "cell_type": "code",
   "execution_count": null,
   "metadata": {},
   "outputs": [],
   "source": []
  },
  {
   "cell_type": "code",
   "execution_count": null,
   "metadata": {},
   "outputs": [],
   "source": []
  },
  {
   "cell_type": "code",
   "execution_count": null,
   "metadata": {},
   "outputs": [],
   "source": []
  },
  {
   "cell_type": "code",
   "execution_count": null,
   "metadata": {},
   "outputs": [],
   "source": []
  },
  {
   "cell_type": "code",
   "execution_count": null,
   "metadata": {},
   "outputs": [],
   "source": []
  },
  {
   "cell_type": "code",
   "execution_count": null,
   "metadata": {},
   "outputs": [],
   "source": []
  },
  {
   "cell_type": "code",
   "execution_count": null,
   "metadata": {},
   "outputs": [],
   "source": []
  },
  {
   "cell_type": "code",
   "execution_count": null,
   "metadata": {},
   "outputs": [],
   "source": []
  },
  {
   "cell_type": "code",
   "execution_count": null,
   "metadata": {},
   "outputs": [],
   "source": []
  },
  {
   "cell_type": "code",
   "execution_count": null,
   "metadata": {},
   "outputs": [],
   "source": []
  },
  {
   "cell_type": "code",
   "execution_count": null,
   "metadata": {},
   "outputs": [],
   "source": []
  },
  {
   "cell_type": "code",
   "execution_count": null,
   "metadata": {},
   "outputs": [],
   "source": []
  },
  {
   "cell_type": "code",
   "execution_count": null,
   "metadata": {},
   "outputs": [],
   "source": []
  },
  {
   "cell_type": "code",
   "execution_count": null,
   "metadata": {},
   "outputs": [],
   "source": []
  },
  {
   "cell_type": "code",
   "execution_count": null,
   "metadata": {},
   "outputs": [],
   "source": []
  },
  {
   "cell_type": "code",
   "execution_count": null,
   "metadata": {},
   "outputs": [],
   "source": []
  },
  {
   "cell_type": "code",
   "execution_count": null,
   "metadata": {},
   "outputs": [],
   "source": []
  },
  {
   "cell_type": "code",
   "execution_count": null,
   "metadata": {},
   "outputs": [],
   "source": []
  },
  {
   "cell_type": "code",
   "execution_count": null,
   "metadata": {},
   "outputs": [],
   "source": []
  },
  {
   "cell_type": "code",
   "execution_count": null,
   "metadata": {},
   "outputs": [],
   "source": []
  },
  {
   "cell_type": "code",
   "execution_count": null,
   "metadata": {},
   "outputs": [],
   "source": []
  },
  {
   "cell_type": "code",
   "execution_count": null,
   "metadata": {},
   "outputs": [],
   "source": []
  },
  {
   "cell_type": "code",
   "execution_count": null,
   "metadata": {},
   "outputs": [],
   "source": []
  },
  {
   "cell_type": "code",
   "execution_count": null,
   "metadata": {},
   "outputs": [],
   "source": []
  }
 ],
 "metadata": {
  "kernelspec": {
   "display_name": "Python 3",
   "language": "python",
   "name": "python3"
  },
  "language_info": {
   "codemirror_mode": {
    "name": "ipython",
    "version": 3
   },
   "file_extension": ".py",
   "mimetype": "text/x-python",
   "name": "python",
   "nbconvert_exporter": "python",
   "pygments_lexer": "ipython3",
   "version": "3.7.4"
  }
 },
 "nbformat": 4,
 "nbformat_minor": 2
}
